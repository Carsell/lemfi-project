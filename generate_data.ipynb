{
 "cells": [
  {
   "cell_type": "code",
   "execution_count": 1,
   "id": "ad274eed-8c79-4a0b-a05e-e259bc413553",
   "metadata": {},
   "outputs": [
    {
     "name": "stdout",
     "output_type": "stream",
     "text": [
      "Generating users...\n",
      "Generating transactions...\n",
      "✅ Data simulation complete. CSVs saved to /data/\n"
     ]
    }
   ],
   "source": [
    "import pandas as pd\n",
    "import numpy as np\n",
    "from faker import Faker\n",
    "import random\n",
    "from datetime import datetime\n",
    "\n",
    "# Initialize\n",
    "fake = Faker()\n",
    "Faker.seed(42)\n",
    "random.seed(42)\n",
    "\n",
    "# Parameters\n",
    "num_users = 10000\n",
    "num_transactions = 500000\n",
    "\n",
    "# Constants\n",
    "country_corridors = [('NG', 'UK'), ('GH', 'CA'), ('KE', 'US'), ('UG', 'UK'), ('NG', 'US')]\n",
    "currencies = {'NG': 'NGN', 'GH': 'GHS', 'KE': 'KES', 'UG': 'UGX', 'UK': 'GBP', 'US': 'USD', 'CA': 'CAD'}\n",
    "transaction_types = ['Wallet Top-Up', 'Send Money', 'Bill Payment', 'Bank Withdrawal']\n",
    "devices = ['Mobile', 'Web']\n",
    "kyc_methods = ['Document Upload', 'Bank Verification', 'Utility Bill']\n",
    "kyc_statuses = ['Verified', 'Pending', 'Failed']\n",
    "compliance_outcomes = ['Pass', 'Review', 'Escalated']\n",
    "\n",
    "# Generate Users\n",
    "print(\"Generating users...\")\n",
    "users = []\n",
    "for user_id in range(1, num_users + 1):\n",
    "    country = random.choice(['NG', 'GH', 'KE', 'UG'])\n",
    "    signup_date = fake.date_between(start_date='-1y', end_date='today')\n",
    "    tenure_days = (datetime.now().date() - signup_date).days\n",
    "    risk_score = round(random.uniform(0, 1), 3)\n",
    "    users.append({\n",
    "        'user_id': user_id,\n",
    "        'name': fake.name(),\n",
    "        'email': fake.email(),\n",
    "        'signup_date': signup_date,\n",
    "        'country': country,\n",
    "        'kyc_status': random.choices(kyc_statuses, weights=[0.7, 0.2, 0.1])[0],\n",
    "        'kyc_method': random.choice(kyc_methods),\n",
    "        'tenure_days': tenure_days,\n",
    "        'risk_score': risk_score\n",
    "    })\n",
    "\n",
    "users_df = pd.DataFrame(users)\n",
    "users_df.to_csv(\"../data/raw_users.csv\", index=False)  # ← current\n",
    "\n",
    "# Generate Transactions\n",
    "print(\"Generating transactions...\")\n",
    "transactions = []\n",
    "for txn_id in range(1, num_transactions + 1):\n",
    "    user = random.choice(users)\n",
    "    corridor = random.choice(country_corridors)\n",
    "    amount = round(random.uniform(5, 5000), 2)\n",
    "    timestamp = fake.date_time_between(start_date='-6mo', end_date='now')\n",
    "    exchange_rate = round(random.uniform(0.005, 1.2), 4)\n",
    "    is_flagged = random.choices([True, False], weights=[0.04, 0.96])[0]\n",
    "\n",
    "    transactions.append({\n",
    "        'transaction_id': txn_id,\n",
    "        'user_id': user['user_id'],\n",
    "        'timestamp': timestamp,\n",
    "        'send_country': corridor[0],\n",
    "        'receive_country': corridor[1],\n",
    "        'send_currency': currencies[corridor[0]],\n",
    "        'receive_currency': currencies[corridor[1]],\n",
    "        'amount': amount,\n",
    "        'converted_amount': round(amount * exchange_rate, 2),\n",
    "        'transaction_type': random.choice(transaction_types),\n",
    "        'device': random.choice(devices),\n",
    "        'is_flagged': is_flagged,\n",
    "        'exchange_rate': exchange_rate,\n",
    "        'compliance_result': random.choices(compliance_outcomes, weights=[0.9, 0.08, 0.02])[0]\n",
    "    })\n",
    "\n",
    "transactions_df = pd.DataFrame(transactions)\n",
    "transactions_df.to_csv(\"../data/raw_transactions.csv\", index=False)\n",
    "\n",
    "print(\"✅ Data simulation complete. CSVs saved to /data/\")"
   ]
  },
  {
   "cell_type": "code",
   "execution_count": 2,
   "id": "23b302c7-8be6-47c1-b169-8a292d1e1465",
   "metadata": {},
   "outputs": [
    {
     "name": "stdout",
     "output_type": "stream",
     "text": [
      "<class 'pandas.core.frame.DataFrame'>\n",
      "RangeIndex: 500000 entries, 0 to 499999\n",
      "Data columns (total 14 columns):\n",
      " #   Column             Non-Null Count   Dtype         \n",
      "---  ------             --------------   -----         \n",
      " 0   transaction_id     500000 non-null  int64         \n",
      " 1   user_id            500000 non-null  int64         \n",
      " 2   timestamp          500000 non-null  datetime64[ns]\n",
      " 3   send_country       500000 non-null  object        \n",
      " 4   receive_country    500000 non-null  object        \n",
      " 5   send_currency      500000 non-null  object        \n",
      " 6   receive_currency   500000 non-null  object        \n",
      " 7   amount             500000 non-null  float64       \n",
      " 8   converted_amount   500000 non-null  float64       \n",
      " 9   transaction_type   500000 non-null  object        \n",
      " 10  device             500000 non-null  object        \n",
      " 11  is_flagged         500000 non-null  bool          \n",
      " 12  exchange_rate      500000 non-null  float64       \n",
      " 13  compliance_result  500000 non-null  object        \n",
      "dtypes: bool(1), datetime64[ns](1), float64(3), int64(2), object(7)\n",
      "memory usage: 50.1+ MB\n"
     ]
    }
   ],
   "source": [
    "transactions_df.info()"
   ]
  },
  {
   "cell_type": "code",
   "execution_count": 6,
   "id": "123dfa48-ac3f-4e79-b7f4-2bc65e03744e",
   "metadata": {},
   "outputs": [
    {
     "name": "stdout",
     "output_type": "stream",
     "text": [
      "Current working directory: /Users/carsell/LemFi\n"
     ]
    }
   ],
   "source": [
    "import os\n",
    "print(\"Current working directory:\", os.getcwd())"
   ]
  },
  {
   "cell_type": "code",
   "execution_count": 8,
   "id": "4c1176f6-27d6-48bd-917a-8e50fa2124d8",
   "metadata": {},
   "outputs": [],
   "source": [
    "import os\n",
    "\n",
    "# Create the data folder if it doesn't exist\n",
    "os.makedirs(\"data\", exist_ok=True)\n",
    "\n",
    "# Save the files safely\n",
    "users_df.to_csv(\"data/raw_users.csv\", index=False)\n",
    "transactions_df.to_csv(\"data/raw_transactions.csv\", index=False)"
   ]
  },
  {
   "cell_type": "code",
   "execution_count": null,
   "id": "81aa97ca-319c-4dde-b337-89813b42832f",
   "metadata": {},
   "outputs": [],
   "source": []
  }
 ],
 "metadata": {
  "kernelspec": {
   "display_name": "Python 3 (ipykernel)",
   "language": "python",
   "name": "python3"
  },
  "language_info": {
   "codemirror_mode": {
    "name": "ipython",
    "version": 3
   },
   "file_extension": ".py",
   "mimetype": "text/x-python",
   "name": "python",
   "nbconvert_exporter": "python",
   "pygments_lexer": "ipython3",
   "version": "3.12.4"
  }
 },
 "nbformat": 4,
 "nbformat_minor": 5
}
